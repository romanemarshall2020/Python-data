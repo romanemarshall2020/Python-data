{
 "cells": [
  {
   "cell_type": "code",
   "execution_count": null,
   "metadata": {},
   "outputs": [],
   "source": [
    "import pandas as pd\n",
    "from pprint import pprint\n",
    "\n",
    "\n",
    "df = pd.read_json('./archive/dataset/cpu.json')\n",
    "\n",
    "print(df.to_string())"
   ]
  },
  {
   "cell_type": "code",
   "execution_count": null,
   "metadata": {},
   "outputs": [],
   "source": [
    "cpu_list = pd.DataFrame(df).dropna().to_dict(orient=\"records\")\n",
    "pprint(cpu_list)"
   ]
  },
  {
   "cell_type": "code",
   "execution_count": null,
   "metadata": {},
   "outputs": [],
   "source": [
    "def filter_by_brand(cpu_catalog):\n",
    "    filter_list = []\n",
    "    remaining_items = []\n",
    "    search_str = input(\"please enter an input: \")\n",
    "    print(len(cpu_catalog))\n",
    "    for item in cpu_catalog:\n",
    "        if search_str.lower() in item[\"name\"].lower():\n",
    "            filter_list.append(item)\n",
    "        else:\n",
    "            remaining_items.append(item)\n",
    "    return filter_list\n",
    "pprint(filter_by_brand(cpu_list))\n",
    "results = filter_by_brand(cpu_list)"
   ]
  },
  {
   "cell_type": "code",
   "execution_count": null,
   "metadata": {},
   "outputs": [],
   "source": [
    "# def filter_by_graphics(dictionary):\n",
    "#     isgpu_list = []\n",
    "#     nogpu_list = []\n",
    "#     for gpu in dictionary: \n",
    "#         gpu_status = gpu.get(\"graphics\")\n",
    "#         if gpu_status is not None:\n",
    "#             isgpu_list.append(gpu)\n",
    "#         else:\n",
    "#             nogpu_list.append(gpu) \n",
    "\n",
    "#     pprint(isgpu_list)\n",
    "#     return isgpu_list\n",
    "\n",
    "# gpu_list = filter_by_graphics(results)"
   ]
  },
  {
   "cell_type": "code",
   "execution_count": null,
   "metadata": {},
   "outputs": [],
   "source": []
  }
 ],
 "metadata": {
  "kernelspec": {
   "display_name": "Python 3",
   "language": "python",
   "name": "python3"
  },
  "language_info": {
   "codemirror_mode": {
    "name": "ipython",
    "version": 3
   },
   "file_extension": ".py",
   "mimetype": "text/x-python",
   "name": "python",
   "nbconvert_exporter": "python",
   "pygments_lexer": "ipython3",
   "version": "3.12.4"
  }
 },
 "nbformat": 4,
 "nbformat_minor": 2
}

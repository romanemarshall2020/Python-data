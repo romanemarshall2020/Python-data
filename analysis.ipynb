{
 "cells": [
  {
   "cell_type": "code",
   "execution_count": null,
   "metadata": {},
   "outputs": [],
   "source": [
    "%pip install chromadb\n",
    "%pip install sentence-transformers\n"
   ]
  },
  {
   "cell_type": "code",
   "execution_count": null,
   "metadata": {},
   "outputs": [],
   "source": [
    "import pandas as pd\n",
    "from pprint import pprint\n",
    "import chromadb\n",
    "from itertools import groupby\n",
    "from sentence_transformers import SentenceTransformer  # For generating embeddings\n",
    "\n",
    "\n",
    "\n",
    "\n"
   ]
  },
  {
   "cell_type": "code",
   "execution_count": null,
   "metadata": {},
   "outputs": [],
   "source": [
    "df = pd.read_json('./archive/dataset/cpu.json')\n",
    "# print(df.to_string())\n",
    "\n",
    "cpu_list = pd.DataFrame(df).dropna().drop_duplicates().to_dict(orient=\"records\")\n",
    "def key_extract_func(d):\n",
    "    return next(iter(d))\n",
    "unique_list = [next(group) for key, group in groupby(sorted(cpu_list, key=key_extract_func), key=key_extract_func)]\n",
    "\n",
    "pprint(cpu_list)"
   ]
  },
  {
   "cell_type": "code",
   "execution_count": null,
   "metadata": {},
   "outputs": [],
   "source": [
    "import json\n",
    "cpu_ids = []\n",
    "for cpu in cpu_list:\n",
    "    if cpu[\"name\"]:\n",
    "        cpu_ids.append(cpu[\"name\"])\n",
    "# pprint(cpu_ids)\n",
    "\n",
    "# Model for generating embeddings\n",
    "model = SentenceTransformer('all-MiniLM-L6-v2')\n",
    "\n",
    "texts = [\n",
    "    f\"{cpu['name']}: {cpu['core_count']} cores, {cpu['core_clock']} GHz base, \"\n",
    "    f\"{cpu['boost_clock']} GHz boost, {cpu['graphics']} graphics, ${cpu['price']}\"\n",
    "    for cpu in cpu_list\n",
    "]\n",
    "\n",
    "embeddings = model.encode(texts)\n",
    "\n",
    "cpu_strings = json.dumps(cpu_list, indent=1)\n",
    "# print(cpu_strings)\n",
    "\n",
    "chroma_client = chromadb.Client()\n",
    "collection = chroma_client.get_collection(\"cpu_specs\")\n",
    "collection.add(ids=cpu_ids, embeddings=embeddings, metadatas=cpu_list)\n",
    "\n",
    "print(\"Data successfully added to chromadb\")\n",
    "\n",
    "# def filter_by_brand(cpu_catalog):\n",
    "#     filter_list = []\n",
    "#     remaining_items = []\n",
    "#     search_str = input(\"please enter an input: \")\n",
    "#     print(len(cpu_catalog))\n",
    "#     for item in cpu_catalog:\n",
    "#         if search_str.lower() in item[\"name\"].lower():\n",
    "#             filter_list.append(item)\n",
    "#         else:\n",
    "#             remaining_items.append(item)\n",
    "#     return filter_list\n",
    "# # pprint(filter_by_brand(cpu_list))\n",
    "# results = filter_by_brand(cpu_list)\n",
    "# results_to_string = json.dumps(results, indent=1)\n",
    "# print(results_to_string)"
   ]
  },
  {
   "cell_type": "code",
   "execution_count": null,
   "metadata": {},
   "outputs": [],
   "source": [
    "# def filter_by_graphics(dictionary):\n",
    "#     isgpu_list = []\n",
    "#     nogpu_list = []\n",
    "#     for gpu in dictionary: \n",
    "#         gpu_status = gpu.get(\"graphics\")\n",
    "#         if gpu_status is not None:\n",
    "#             isgpu_list.append(gpu)\n",
    "#         else:\n",
    "#             nogpu_list.append(gpu) \n",
    "\n",
    "#     pprint(isgpu_list)\n",
    "#     return isgpu_list\n",
    "\n",
    "# gpu_list = filter_by_graphics(results)"
   ]
  },
  {
   "cell_type": "code",
   "execution_count": null,
   "metadata": {},
   "outputs": [],
   "source": []
  }
 ],
 "metadata": {
  "kernelspec": {
   "display_name": "Python 3",
   "language": "python",
   "name": "python3"
  },
  "language_info": {
   "codemirror_mode": {
    "name": "ipython",
    "version": 3
   },
   "file_extension": ".py",
   "mimetype": "text/x-python",
   "name": "python",
   "nbconvert_exporter": "python",
   "pygments_lexer": "ipython3",
   "version": "3.12.4"
  }
 },
 "nbformat": 4,
 "nbformat_minor": 2
}
